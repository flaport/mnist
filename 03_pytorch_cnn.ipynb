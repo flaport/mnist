{
 "cells": [
  {
   "cell_type": "markdown",
   "metadata": {},
   "source": [
    "# Pytorch CNN"
   ]
  },
  {
   "cell_type": "markdown",
   "metadata": {},
   "source": [
    "A convolutional neural network written in pytorch."
   ]
  },
  {
   "cell_type": "markdown",
   "metadata": {
    "_cell_guid": "39fba1ef-ec4b-38ca-fca0-0bdb31e294f4"
   },
   "source": [
    "## Imports"
   ]
  },
  {
   "cell_type": "code",
   "execution_count": 1,
   "metadata": {
    "_cell_guid": "6efa16c1-f457-45bb-49a3-69e11c7fae18"
   },
   "outputs": [],
   "source": [
    "%matplotlib inline\n",
    "import torch\n",
    "import numpy as np\n",
    "import matplotlib.pyplot as plt\n",
    "\n",
    "from fetch_mnist import fetch_mnist\n",
    "\n",
    "np.random.seed(1)"
   ]
  },
  {
   "cell_type": "markdown",
   "metadata": {},
   "source": [
    "## Constants"
   ]
  },
  {
   "cell_type": "code",
   "execution_count": 2,
   "metadata": {},
   "outputs": [],
   "source": [
    "# Data parameters\n",
    "num_labels = 10 # Number of different types of labels (1-10)\n",
    "width, height = 28, 28 # width / height of the image\n",
    "depth = 1 # Number of colors in the image (greyscale)\n",
    "\n",
    "# Training Parameters\n",
    "num_steps = 2000 # Number of training steps to run\n",
    "test_size = 10000 # Test data set size\n",
    "valid_size = 10000 # Validation data set size\n",
    "train_size = 60000 - valid_size # Size of the training set\n",
    "batch_size = 100 # Stochastic Gradient Descent batch size\n",
    "\n",
    "# CNN Parameters\n",
    "kernel_size = 5 # Convolutional Kernel size\n",
    "kernel_depth = 32 # Convolutional Kernel depth size == Number of Convolutional Kernels\n",
    "num_hidden = 1024 # Number of hidden neurons in the fully connected layer\n",
    "\n",
    "# Optimization parameters\n",
    "learning_rate = 0.0001 # Learning rate\n",
    "\n",
    "# Cuda\n",
    "cuda = True # use GPU or not\n",
    "device = torch.device('cuda' if cuda else 'cpu')"
   ]
  },
  {
   "cell_type": "markdown",
   "metadata": {
    "_cell_guid": "f731214e-9fca-f54d-91be-60475207ba64"
   },
   "source": [
    "## Data"
   ]
  },
  {
   "cell_type": "markdown",
   "metadata": {},
   "source": [
    "We use the custom MNIST data fetcher from `fetch_mnist.py`.\n",
    "\n",
    "The image values are specified by an integer between 0 and 255. We convert these pixel values to a float between 0 and 1."
   ]
  },
  {
   "cell_type": "code",
   "execution_count": 3,
   "metadata": {
    "_cell_guid": "cc368a9d-79d3-6e70-1732-4ebdd696a409"
   },
   "outputs": [
    {
     "name": "stdout",
     "output_type": "stream",
     "text": [
      "train data shape:\ttorch.Size([50000, 1, 28, 28])\n",
      "train labels shape:\ttorch.Size([50000])\n"
     ]
    }
   ],
   "source": [
    "train_data, test_data = fetch_mnist()\n",
    "data = np.vstack([train_data, test_data])\n",
    "np.random.shuffle(data)\n",
    "\n",
    "train_data = data[:-test_size-valid_size]\n",
    "valid_data = data[-test_size-valid_size:-test_size]\n",
    "test_data  = data[-test_size:]\n",
    "\n",
    "def get_values_labels(data):\n",
    "    labels = torch.tensor(data[:,0], dtype=torch.int64, device=device)\n",
    "    values = torch.tensor(data[:,1:].reshape(-1, depth, height, width)/255, dtype=torch.float32, device=device)\n",
    "    return values, labels\n",
    "    \n",
    "train_values, train_labels = get_values_labels(train_data)\n",
    "valid_values, valid_labels = get_values_labels(valid_data)\n",
    "test_values, test_labels = get_values_labels(test_data)\n",
    "\n",
    "print(f'train data shape:\\t{train_values.shape}')\n",
    "print(f'train labels shape:\\t{train_labels.shape}')"
   ]
  },
  {
   "cell_type": "markdown",
   "metadata": {},
   "source": [
    "We can visualize the different digits by writing a visualization function that reshapes the 784D train and test values into a 28x28 grid:"
   ]
  },
  {
   "cell_type": "code",
   "execution_count": 4,
   "metadata": {},
   "outputs": [
    {
     "data": {
      "image/png": "[encoded data removed]",
      "text/plain": [
       "<Figure size 432x288 with 1 Axes>"
      ]
     },
     "metadata": {},
     "output_type": "display_data"
    }
   ],
   "source": [
    "def show_digit(digit_array):\n",
    "    plt.imshow(digit_array.view(height, width).data.cpu().numpy(), cmap='Greys')\n",
    "    plt.xticks([])\n",
    "    plt.yticks([])\n",
    "    plt.show()\n",
    "    \n",
    "show_digit(train_values[31])"
   ]
  },
  {
   "cell_type": "markdown",
   "metadata": {},
   "source": [
    "## Model"
   ]
  },
  {
   "cell_type": "markdown",
   "metadata": {},
   "source": [
    "Let's now build a network with two convolutional layers, followed by two fully connected layers. We use the `torch.nn.Module` to create the network.\n",
    "\n",
    "We choose a 4 layered network consisting of 2 convolutional layers with kernel size `kernel_size` and depth `kernel_depth` and `2*kernel_depth` respectively. These convolutional layers are followed by two fully connected layers with `num_hidden` hidden neurons `num_labels` output nodes (one-hot encoding)."
   ]
  },
  {
   "cell_type": "code",
   "execution_count": 5,
   "metadata": {},
   "outputs": [],
   "source": [
    "class Model(torch.nn.Module):\n",
    "    \n",
    "    def __init__(self):\n",
    "        super(Model, self).__init__()\n",
    "        \n",
    "        # First Convoluational Layer\n",
    "        self.conv1 = torch.nn.Conv2d(\n",
    "            in_channels=depth,\n",
    "            out_channels=kernel_depth,\n",
    "            kernel_size=kernel_size,\n",
    "            stride=1,\n",
    "            padding=(kernel_size-1)//2, # = 'SAME'\n",
    "        )\n",
    "        # Second Convolutional Layer\n",
    "        self.conv2 = torch.nn.Conv2d(\n",
    "            in_channels=kernel_depth,\n",
    "            out_channels=2*kernel_depth,\n",
    "            kernel_size=kernel_size,\n",
    "            stride=1,\n",
    "            padding=(kernel_size-1)//2, # = 'SAME'\n",
    "        )\n",
    "        # First Fully Connected Layer\n",
    "        self.fc1 = torch.nn.Linear(\n",
    "            in_features=width//4*width//4*2*kernel_depth,\n",
    "            out_features=num_hidden,\n",
    "        )\n",
    "        # Second Fully Connected Layer\n",
    "        self.fc2 = torch.nn.Linear(\n",
    "            in_features=num_hidden,\n",
    "            out_features=num_labels\n",
    "        )\n",
    "        # Max Pooling Layer\n",
    "        self.mp = torch.nn.MaxPool2d(2)\n",
    "        # ReLU Activateion Layer\n",
    "        self.relu = torch.nn.ReLU()\n",
    "        # Softmax Activation Layer\n",
    "        self.softmax = torch.nn.Softmax(dim=-1)\n",
    "        \n",
    "        # move to device:\n",
    "        self.to(device)\n",
    "        \n",
    "    def forward(self, data):\n",
    "        # first convolutional layer:\n",
    "        x = self.relu(self.mp(self.conv1(data)))\n",
    "        # second convolutional layer:\n",
    "        x = self.relu(self.mp(self.conv2(x)))\n",
    "        # first fully connected layer:\n",
    "        x = self.relu(self.fc1(x.view(x.size(0),-1)))\n",
    "        # second fully connected layer:\n",
    "        logits = self.fc2(x)\n",
    "        return logits\n",
    "    "
   ]
  },
  {
   "cell_type": "markdown",
   "metadata": {
    "_cell_guid": "e33cb0c7-51ed-02ae-ebb2-dcda12832da6"
   },
   "source": [
    "# Train"
   ]
  },
  {
   "cell_type": "markdown",
   "metadata": {},
   "source": [
    "Create the model"
   ]
  },
  {
   "cell_type": "code",
   "execution_count": null,
   "metadata": {},
   "outputs": [],
   "source": [
    "model = Model()"
   ]
  },
  {
   "cell_type": "markdown",
   "metadata": {},
   "source": [
    "We use the categorical cross entropy loss for training the model.\n",
    "\n",
    "As optimizer we could use a Gradient Descent optimizer [with or without decaying learning rate] or one of the more sophisticated (and easier to optimize) optimizers like Adam or RMSProp"
   ]
  },
  {
   "cell_type": "code",
   "execution_count": 6,
   "metadata": {},
   "outputs": [],
   "source": [
    "# loss\n",
    "lossfunc = torch.nn.CrossEntropyLoss()\n",
    "\n",
    "# accuracy\n",
    "def accuracy(logits, labels):\n",
    "    return 100*np.mean(np.argmax(logits.data.cpu().numpy(), 1) == labels.data.cpu().numpy())\n",
    "\n",
    "# optimizer\n",
    "optimizer = torch.optim.RMSprop(model.parameters(), lr=learning_rate)"
   ]
  },
  {
   "cell_type": "markdown",
   "metadata": {},
   "source": [
    "Run the session"
   ]
  },
  {
   "cell_type": "code",
   "execution_count": 7,
   "metadata": {
    "_cell_guid": "4dbef346-feb4-1479-62a8-042785666e66"
   },
   "outputs": [
    {
     "name": "stdout",
     "output_type": "stream",
     "text": [
      "Step     0\t Valid. Acc. =  9.63\n",
      "Step   500\t Valid. Acc. = 96.51\n",
      "Step  1000\t Valid. Acc. = 97.86\n",
      "Step  1500\t Valid. Acc. = 98.34\n",
      "Step  1999\t Valid. Acc. = 98.55\n",
      "CPU times: user 10.3 s, sys: 3.89 s, total: 14.2 s\n",
      "Wall time: 14.2 s\n"
     ]
    }
   ],
   "source": [
    "%%time\n",
    "history = [] \n",
    "\n",
    "for step in range(num_steps):\n",
    "    # reset gradients\n",
    "    optimizer.zero_grad()\n",
    "\n",
    "    # calculate validation accuracy\n",
    "    with torch.no_grad():\n",
    "        if step%(train_size//batch_size) == 0 or step == num_steps - 1:\n",
    "            valid_logits = model(valid_values)\n",
    "            # get element of 0D array:\n",
    "            valid_loss = lossfunc(valid_logits, valid_labels).item()\n",
    "            valid_accuracy = accuracy(valid_logits, valid_labels)\n",
    "            history.append((step, valid_loss, valid_accuracy))\n",
    "            print(f'Step {step:5.0f}\\t Valid. Acc. = {valid_accuracy:5.2f}')\n",
    "    \n",
    "    # train\n",
    "    idxs = np.random.randint(0, train_size, batch_size)\n",
    "    batch_values = train_values[idxs]\n",
    "    batch_labels = train_labels[idxs]\n",
    "    logits = model(batch_values)\n",
    "    loss = lossfunc(logits, batch_labels)\n",
    "    loss.backward()\n",
    "    optimizer.step()"
   ]
  },
  {
   "cell_type": "markdown",
   "metadata": {},
   "source": [
    "Training history:"
   ]
  },
  {
   "cell_type": "code",
   "execution_count": 8,
   "metadata": {},
   "outputs": [
    {
     "data": {
      "image/png": "[encoded data removed]",
      "text/plain": [
       "<Figure size 432x288 with 2 Axes>"
      ]
     },
     "metadata": {},
     "output_type": "display_data"
    }
   ],
   "source": [
    "steps, loss, acc = zip(*history)\n",
    "\n",
    "fig, ax_loss = plt.subplots()\n",
    "ax_acc = ax_loss.twinx()\n",
    "\n",
    "plt.sca(ax_acc)\n",
    "plt.plot(steps, acc, '-o', color='C1')\n",
    "plt.ylabel('Accuracy [%]', color='C1');\n",
    "plt.tick_params('y', colors='C1')\n",
    "m = (min(acc)-1)//10*10; plt.ylim(m,100)\n",
    "plt.yticks([m,(m+100)//2,100])\n",
    "\n",
    "plt.sca(ax_loss)\n",
    "plt.plot(steps, loss, '-o', color='C0')\n",
    "plt.ylabel('Log Loss', color='C0');\n",
    "plt.tick_params('y', colors='C0')\n",
    "m = 1.1*max(loss)\n",
    "plt.ylim(0.01, m)\n",
    "\n",
    "plt.xlim(0, (max(steps)+100)//100*100)\n",
    "plt.xlabel('Training Steps')\n",
    "plt.title('Validation Loss / Accuracy')\n",
    "plt.show()"
   ]
  },
  {
   "cell_type": "markdown",
   "metadata": {},
   "source": [
    "# Test"
   ]
  },
  {
   "cell_type": "markdown",
   "metadata": {},
   "source": [
    "Finally, the accuracy on the test set can be evaluated:"
   ]
  },
  {
   "cell_type": "code",
   "execution_count": 9,
   "metadata": {},
   "outputs": [
    {
     "name": "stdout",
     "output_type": "stream",
     "text": [
      "Test Accuracy = 98.47\n"
     ]
    }
   ],
   "source": [
    "with torch.no_grad():\n",
    "    test_logits = model(test_values)\n",
    "    test_accuracy = accuracy(test_logits, test_labels)\n",
    "print(f'Test Accuracy = {test_accuracy:5.2f}')"
   ]
  },
  {
   "cell_type": "markdown",
   "metadata": {},
   "source": [
    "Visualize an example"
   ]
  },
  {
   "cell_type": "code",
   "execution_count": 10,
   "metadata": {},
   "outputs": [
    {
     "data": {
      "image/png": "[encoded data removed]",
      "text/plain": [
       "<Figure size 432x288 with 1 Axes>"
      ]
     },
     "metadata": {},
     "output_type": "display_data"
    },
    {
     "name": "stdout",
     "output_type": "stream",
     "text": [
      "prediction=3\ttarget=3\n"
     ]
    }
   ],
   "source": [
    "N = 315\n",
    "show_digit(test_values[N])\n",
    "test_logits = model(test_values[N:N+1])\n",
    "prediction = torch.argmax(test_logits[0]).item()\n",
    "target = test_labels[N].item()\n",
    "print(f'prediction={prediction}\\ttarget={target}')"
   ]
  }
 ],
 "metadata": {
  "_change_revision": 0,
  "_is_fork": false,
  "kernelspec": {
   "display_name": "Python 3",
   "language": "python",
   "name": "python3"
  },
  "language_info": {
   "codemirror_mode": {
    "name": "ipython",
    "version": 3
   },
   "file_extension": ".py",
   "mimetype": "text/x-python",
   "name": "python",
   "nbconvert_exporter": "python",
   "pygments_lexer": "ipython3",
   "version": "3.6.5"
  }
 },
 "nbformat": 4,
 "nbformat_minor": 2
}
