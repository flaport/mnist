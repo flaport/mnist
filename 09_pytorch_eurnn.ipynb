{
 "cells": [
  {
   "cell_type": "markdown",
   "metadata": {},
   "source": [
    "# Pytorch EURNN"
   ]
  },
  {
   "cell_type": "markdown",
   "metadata": {},
   "source": [
    "A recurrent neural network written in pytorch for which the matrix in the recurrent part is unitary (see for example [https://arxiv.org/abs/1612.05231](https://arxiv.org/abs/1612.05231))."
   ]
  },
  {
   "cell_type": "markdown",
   "metadata": {
    "_cell_guid": "39fba1ef-ec4b-38ca-fca0-0bdb31e294f4"
   },
   "source": [
    "## Imports"
   ]
  },
  {
   "cell_type": "code",
   "execution_count": 1,
   "metadata": {
    "_cell_guid": "6efa16c1-f457-45bb-49a3-69e11c7fae18"
   },
   "outputs": [],
   "source": [
    "# Other\n",
    "%matplotlib inline\n",
    "import torch\n",
    "import numpy as np\n",
    "import matplotlib.pyplot as plt\n",
    "\n",
    "from fetch_mnist import fetch_mnist\n",
    "\n",
    "# EURNN [disclaimer: this is my own library, installable with pip]\n",
    "from torch_eunn import EURNN # pip install torch_eunn"
   ]
  },
  {
   "cell_type": "markdown",
   "metadata": {},
   "source": [
    "## Constants"
   ]
  },
  {
   "cell_type": "code",
   "execution_count": 2,
   "metadata": {},
   "outputs": [],
   "source": [
    "# Data parameters\n",
    "num_labels = 10 # Number of different types of labels (1-10)\n",
    "width, height = 28, 28 # width / height of the image\n",
    "num_pixels = width*height\n",
    "\n",
    "# pixel permutation idxs\n",
    "perm_idxs = list(range(num_pixels))\n",
    "np.random.RandomState(seed=0).shuffle(perm_idxs)\n",
    "\n",
    "# reverse pixel permutation idxs\n",
    "rev_perm_idxs = [perm_idxs.index(i) for i in range(num_pixels)]\n",
    "\n",
    "# Training Parameters\n",
    "num_steps = 40000 # Number of training steps to run\n",
    "test_size = 10000 # Test data set size\n",
    "valid_size = 10000 # Validation data set size\n",
    "train_size = 60000 - valid_size # Size of the training set\n",
    "batch_size = 100 # Batch size\n",
    "test_batch_size = 1000 # batch size for calculating the validation/test loss\n",
    "\n",
    "# RNN Parameters\n",
    "num_inputs = 1 # input dimension [1=pixel-by-pixel]\n",
    "num_steps_rnn = num_pixels // num_inputs # sequential dimensionality of rnn\n",
    "num_hidden_rnn = 256 # hidden layer dimension\n",
    "capacity_rnn = 2 # capacity of eunn\n",
    "\n",
    "# Optimization parameters\n",
    "learning_rate = 0.0001 # learning rate\n",
    "\n",
    "# select device ('cuda' or 'cpu')\n",
    "device = 'cuda' # highly recommended to take cuda!"
   ]
  },
  {
   "cell_type": "markdown",
   "metadata": {
    "_cell_guid": "f731214e-9fca-f54d-91be-60475207ba64"
   },
   "source": [
    "## Data"
   ]
  },
  {
   "cell_type": "markdown",
   "metadata": {},
   "source": [
    "We use the custom MNIST data fetcher from `fetch_mnist.py`.\n",
    "\n",
    "The image values are specified by an integer between 0 and 255. We convert these pixel values to a float between 0 and 1."
   ]
  },
  {
   "cell_type": "markdown",
   "metadata": {},
   "source": [
    "In contrast with the Convolutional Neural Networks, we do a pixel-by-pixel recognition of the digit image where the individial pixels are permuted with a fixed permutation defined by `perm_idx`. This fixed permutation is necessary for good performance of the RNN, as otherwise the the end of the pixel stream contains too many zeros for the RNN to retain its internal state. This is a good benchmark task for a recurrent neural network. The performance of this architecture will obviously be worse than for a convnet."
   ]
  },
  {
   "cell_type": "code",
   "execution_count": 4,
   "metadata": {
    "_cell_guid": "55dd8ffd-6011-49a3-a1fe-c6933c4187b7",
    "_uuid": "840f7b1c60d1a2d5b2222a7c53b2b9d08aac9169",
    "collapsed": true
   },
   "outputs": [
    {
     "name": "stdout",
     "output_type": "stream",
     "text": [
      "train data shape:\ttorch.Size([50000, 784, 1])\n",
      "train labels shape:\ttorch.Size([50000])\n"
     ]
    }
   ],
   "source": [
    "train_data, test_data = fetch_mnist()\n",
    "data = np.vstack([train_data, test_data])\n",
    "np.random.shuffle(data)\n",
    "\n",
    "train_data = data[:-test_size-valid_size]\n",
    "valid_data = data[-test_size-valid_size:-test_size]\n",
    "test_data  = data[-test_size:]\n",
    "\n",
    "def get_values_labels(data):\n",
    "    labels = torch.tensor(data[:,0], dtype=torch.int64, device=device)\n",
    "    values = torch.tensor(data[:,1:][:,perm_idxs]/255, dtype=torch.float32, device=device).view(-1, num_steps_rnn, num_inputs)\n",
    "    return values, labels\n",
    "    \n",
    "train_values, train_labels = get_values_labels(train_data)\n",
    "valid_values, valid_labels = get_values_labels(valid_data)\n",
    "test_values, test_labels = get_values_labels(test_data)\n",
    "\n",
    "print(f'train data shape:\\t{train_values.shape}')\n",
    "print(f'train labels shape:\\t{train_labels.shape}')"
   ]
  },
  {
   "cell_type": "markdown",
   "metadata": {},
   "source": [
    "We can visualize the different digits by writing a visualization function that reshapes the 784D train and test values into a 28x28 grid:"
   ]
  },
  {
   "cell_type": "code",
   "execution_count": 5,
   "metadata": {},
   "outputs": [
    {
     "data": {
      "image/png": "[encoded data removed]",
      "text/plain": [
       "<Figure size 432x288 with 1 Axes>"
      ]
     },
     "metadata": {},
     "output_type": "display_data"
    }
   ],
   "source": [
    "def show_digit(digit_array):\n",
    "    plt.imshow(digit_array.cpu().numpy().reshape(num_pixels)[rev_perm_idxs].reshape(width, height), cmap='Greys')\n",
    "    plt.xticks([])\n",
    "    plt.yticks([])\n",
    "    plt.show()\n",
    "    \n",
    "show_digit(train_values[31])"
   ]
  },
  {
   "cell_type": "markdown",
   "metadata": {},
   "source": [
    "## Model"
   ]
  },
  {
   "cell_type": "markdown",
   "metadata": {},
   "source": [
    "Let's now build a network with two convolutional layers, followed by two fully connected layers. We use the `torch.nn.Module` to create the network."
   ]
  },
  {
   "cell_type": "code",
   "execution_count": 6,
   "metadata": {},
   "outputs": [],
   "source": [
    "# Create RNN Model\n",
    "class Model(torch.nn.Module):\n",
    "    def __init__(self, num_inputs, num_hidden_rnn, capacity_rnn, num_labels):\n",
    "        super(Model, self).__init__()\n",
    "        \n",
    "        # RNN\n",
    "        self.rnn = EURNN(num_inputs, num_hidden_rnn, capacity=capacity_rnn, batch_first=True)\n",
    "        \n",
    "        # Readout layer\n",
    "        self.output_layer = torch.nn.Linear(num_hidden_rnn, num_labels, bias=True)\n",
    "        \n",
    "        # initialize weights\n",
    "        v = np.sqrt(2)/np.sqrt(num_inputs+num_labels)\n",
    "        self.rnn.input_layer.bias.data[:] = 0.01\n",
    "        self.rnn.modrelu.bias.data[:] = 0.01\n",
    "        self.output_layer.bias.data[:] = 0.01\n",
    "        torch.nn.init.uniform_(self.rnn.input_layer.weight.data, -v, v)\n",
    "        torch.nn.init.uniform_(self.output_layer.weight.data, -v, v)\n",
    "        \n",
    "        # move to device\n",
    "        self.to(device)\n",
    "    \n",
    "    def forward(self, x):\n",
    "        out, _ = self.rnn(x)\n",
    "        out = self.output_layer(out[:, -1, :]) \n",
    "        return out"
   ]
  },
  {
   "cell_type": "markdown",
   "metadata": {
    "_cell_guid": "e33cb0c7-51ed-02ae-ebb2-dcda12832da6"
   },
   "source": [
    "## Train"
   ]
  },
  {
   "cell_type": "markdown",
   "metadata": {},
   "source": [
    "Create the model"
   ]
  },
  {
   "cell_type": "code",
   "execution_count": 7,
   "metadata": {},
   "outputs": [],
   "source": [
    "model = Model(num_inputs, num_hidden_rnn, capacity_rnn, num_labels)"
   ]
  },
  {
   "cell_type": "markdown",
   "metadata": {},
   "source": [
    "We use the categorical cross entropy loss for training the model.\n",
    "\n",
    "As optimizer we could use a Gradient Descent optimizer [with or without decaying learning rate] or one of the more sophisticated (and easier to optimize) optimizers like Adam or RMSProp"
   ]
  },
  {
   "cell_type": "code",
   "execution_count": 8,
   "metadata": {
    "_cell_guid": "7fbe419e-7ce2-4d72-bb31-8b27e8161f1b",
    "_uuid": "bb1b6d4fb5504400ed7678d8e95d0a4478b5f409",
    "collapsed": true
   },
   "outputs": [],
   "source": [
    "# loss\n",
    "lossfunc = torch.nn.CrossEntropyLoss()\n",
    "\n",
    "# accuracy\n",
    "def accuracy(logits, labels):\n",
    "    return 100*np.mean(np.argmax(logits.data.cpu().numpy(), 1) == labels.data.cpu().numpy())\n",
    "\n",
    "# RMSprop Optimizer\n",
    "optimizer = torch.optim.RMSprop(model.parameters(), lr=learning_rate)"
   ]
  },
  {
   "cell_type": "markdown",
   "metadata": {},
   "source": [
    "Start the training"
   ]
  },
  {
   "cell_type": "code",
   "execution_count": 9,
   "metadata": {
    "_cell_guid": "32786a5c-0388-412d-b6da-ee5ace604eda",
    "_uuid": "9c935ac4a1d1964b85513da422ebf60085dca0e3",
    "collapsed": true
   },
   "outputs": [
    {
     "name": "stdout",
     "output_type": "stream",
     "text": [
      "Step     0\t Valid. Acc. =  6.66\n",
      "Step   500\t Valid. Acc. = 71.99\n",
      "Step  1000\t Valid. Acc. = 76.40\n",
      "Step  1500\t Valid. Acc. = 78.62\n",
      "Step  2000\t Valid. Acc. = 80.40\n",
      "Step  2500\t Valid. Acc. = 81.32\n",
      "Step  3000\t Valid. Acc. = 83.09\n",
      "Step  3500\t Valid. Acc. = 83.55\n",
      "Step  4000\t Valid. Acc. = 84.11\n",
      "Step  4500\t Valid. Acc. = 85.48\n",
      "Step  5000\t Valid. Acc. = 82.83\n",
      "Step  5500\t Valid. Acc. = 86.59\n",
      "Step  6000\t Valid. Acc. = 87.09\n",
      "Step  6500\t Valid. Acc. = 86.70\n",
      "Step  7000\t Valid. Acc. = 86.77\n",
      "Step  7500\t Valid. Acc. = 87.67\n",
      "Step  8000\t Valid. Acc. = 87.27\n",
      "Step  8500\t Valid. Acc. = 86.74\n",
      "Step  9000\t Valid. Acc. = 88.55\n",
      "Step  9500\t Valid. Acc. = 88.33\n",
      "Step 10000\t Valid. Acc. = 87.85\n",
      "Step 10500\t Valid. Acc. = 88.05\n",
      "Step 11000\t Valid. Acc. = 88.69\n",
      "Step 11500\t Valid. Acc. = 89.28\n",
      "Step 12000\t Valid. Acc. = 88.65\n",
      "Step 12500\t Valid. Acc. = 89.48\n",
      "Step 13000\t Valid. Acc. = 88.74\n",
      "Step 13500\t Valid. Acc. = 89.28\n",
      "Step 14000\t Valid. Acc. = 89.39\n",
      "Step 14500\t Valid. Acc. = 89.51\n",
      "Step 15000\t Valid. Acc. = 88.55\n",
      "Step 15500\t Valid. Acc. = 89.66\n",
      "Step 16000\t Valid. Acc. = 89.24\n",
      "Step 16500\t Valid. Acc. = 89.29\n",
      "Step 17000\t Valid. Acc. = 90.08\n",
      "Step 17500\t Valid. Acc. = 90.29\n",
      "Step 18000\t Valid. Acc. = 89.99\n",
      "Step 18500\t Valid. Acc. = 90.54\n",
      "Step 19000\t Valid. Acc. = 89.79\n",
      "Step 19500\t Valid. Acc. = 89.84\n",
      "Step 20000\t Valid. Acc. = 90.24\n",
      "Step 20500\t Valid. Acc. = 90.61\n",
      "Step 21000\t Valid. Acc. = 90.14\n",
      "Step 21500\t Valid. Acc. = 90.68\n",
      "Step 22000\t Valid. Acc. = 90.09\n",
      "Step 22500\t Valid. Acc. = 90.42\n",
      "Step 23000\t Valid. Acc. = 90.63\n",
      "Step 23500\t Valid. Acc. = 90.48\n",
      "Step 24000\t Valid. Acc. = 90.63\n",
      "Step 24500\t Valid. Acc. = 89.13\n",
      "Step 25000\t Valid. Acc. = 90.37\n",
      "Step 25500\t Valid. Acc. = 89.85\n",
      "Step 26000\t Valid. Acc. = 89.94\n",
      "Step 26500\t Valid. Acc. = 91.02\n",
      "Step 27000\t Valid. Acc. = 90.81\n",
      "Step 27500\t Valid. Acc. = 90.26\n",
      "Step 28000\t Valid. Acc. = 90.45\n",
      "Step 28500\t Valid. Acc. = 91.11\n",
      "Step 29000\t Valid. Acc. = 90.26\n",
      "Step 29500\t Valid. Acc. = 91.32\n",
      "Step 30000\t Valid. Acc. = 90.44\n",
      "Step 30500\t Valid. Acc. = 90.50\n",
      "Step 31000\t Valid. Acc. = 90.83\n",
      "Step 31500\t Valid. Acc. = 91.27\n",
      "Step 32000\t Valid. Acc. = 91.39\n",
      "Step 32500\t Valid. Acc. = 91.29\n",
      "Step 33000\t Valid. Acc. = 90.56\n",
      "Step 33500\t Valid. Acc. = 90.90\n",
      "Step 34000\t Valid. Acc. = 91.06\n",
      "Step 34500\t Valid. Acc. = 91.45\n",
      "Step 35000\t Valid. Acc. = 91.21\n",
      "Step 35500\t Valid. Acc. = 91.08\n",
      "Step 36000\t Valid. Acc. = 91.03\n",
      "Step 36500\t Valid. Acc. = 91.06\n",
      "Step 37000\t Valid. Acc. = 91.39\n",
      "Step 37500\t Valid. Acc. = 90.96\n",
      "Step 38000\t Valid. Acc. = 90.90\n",
      "Step 38500\t Valid. Acc. = 90.09\n",
      "Step 39000\t Valid. Acc. = 90.86\n",
      "Step 39500\t Valid. Acc. = 90.76\n",
      "Step 39999\t Valid. Acc. = 91.24\n",
      "CPU times: user 1d 16h 49min 20s, sys: 5h 5min 36s, total: 1d 21h 54min 56s\n",
      "Wall time: 1d 21h 55min 55s\n"
     ]
    }
   ],
   "source": [
    "%%time\n",
    "history = []\n",
    "\n",
    "for step in range(num_steps):\n",
    "    # reset gradients\n",
    "    optimizer.zero_grad()\n",
    "    \n",
    "    # calculate validation accuracy and loss\n",
    "    with torch.no_grad():\n",
    "        if step%(train_size//batch_size) == 0 or step == num_steps - 1:\n",
    "            val_acc = np.zeros(valid_size//test_batch_size)\n",
    "            val_loss = np.zeros(valid_size//test_batch_size)\n",
    "            # we need to split the calculation of the validation loss in batches\n",
    "            # to avoid memory problems.\n",
    "            for i in range(0, valid_size, test_batch_size):\n",
    "                valid_logits = model(valid_values[i:i+test_batch_size])\n",
    "                val_loss[i//test_batch_size] = lossfunc(valid_logits, valid_labels[i:i+test_batch_size]).item()\n",
    "                val_acc[i//test_batch_size] = accuracy(valid_logits, valid_labels[i:i+test_batch_size]).item()\n",
    "            history.append((step, val_loss.mean(), val_acc.mean()))\n",
    "            print(f'Step {step:5.0f}\\t Valid. Acc. = {val_acc.mean():5.2f}')\n",
    "\n",
    "    # train\n",
    "    idxs = np.random.randint(0, train_size, batch_size)\n",
    "    batch_values = train_values[idxs]\n",
    "    batch_labels = train_labels[idxs]\n",
    "    logits = model(batch_values)\n",
    "    loss = lossfunc(logits, batch_labels)\n",
    "    loss.backward()\n",
    "    optimizer.step()"
   ]
  },
  {
   "cell_type": "markdown",
   "metadata": {},
   "source": [
    "note the big difference in validation accuracy compared to an LSTM."
   ]
  },
  {
   "cell_type": "markdown",
   "metadata": {},
   "source": [
    "Training history:"
   ]
  },
  {
   "cell_type": "code",
   "execution_count": 10,
   "metadata": {},
   "outputs": [
    {
     "data": {
      "image/png": "[encoded data removed]",
      "text/plain": [
       "<Figure size 432x288 with 2 Axes>"
      ]
     },
     "metadata": {},
     "output_type": "display_data"
    }
   ],
   "source": [
    "steps, loss, acc = zip(*history)\n",
    "\n",
    "fig, ax_loss = plt.subplots()\n",
    "ax_acc = ax_loss.twinx()\n",
    "\n",
    "plt.sca(ax_acc)\n",
    "plt.plot(steps, acc, '-o', color='C1')\n",
    "plt.ylabel('Accuracy [%]', color='C1');\n",
    "plt.tick_params('y', colors='C1')\n",
    "m = (min(acc)-1)//10*10; plt.ylim(m,100)\n",
    "plt.yticks([m,(m+100)//2,100])\n",
    "\n",
    "plt.sca(ax_loss)\n",
    "plt.plot(steps, loss, '-o', color='C0')\n",
    "plt.ylabel('Log Loss', color='C0');\n",
    "plt.tick_params('y', colors='C0')\n",
    "m = 1.1*max(loss)\n",
    "plt.ylim(0.01, m)\n",
    "\n",
    "plt.xlim(0, (max(steps)+100)//100*100)\n",
    "plt.xlabel('Training Steps')\n",
    "plt.title('Validation Loss / Accuracy')\n",
    "plt.show()"
   ]
  },
  {
   "cell_type": "markdown",
   "metadata": {},
   "source": [
    "## Test"
   ]
  },
  {
   "cell_type": "markdown",
   "metadata": {},
   "source": [
    "Finally, the accuracy on the test set can be evaluated:"
   ]
  },
  {
   "cell_type": "code",
   "execution_count": 11,
   "metadata": {},
   "outputs": [
    {
     "name": "stdout",
     "output_type": "stream",
     "text": [
      "Test Accuracy = 91.31\n"
     ]
    }
   ],
   "source": [
    "with torch.no_grad():\n",
    "    # we need to split the calculation of the test loss in batches\n",
    "    # to avoid memory problems.\n",
    "    test_accuracy = np.zeros(test_size//test_batch_size)\n",
    "    for i in range(0, test_size, test_batch_size):\n",
    "        test_logits = model(test_values[i:i+test_batch_size])\n",
    "        test_accuracy[i//test_batch_size] = accuracy(test_logits, test_labels[i:i+test_batch_size]).item()\n",
    "test_accuracy = test_accuracy.mean()\n",
    "print(f'Test Accuracy = {test_accuracy:5.2f}')"
   ]
  },
  {
   "cell_type": "markdown",
   "metadata": {},
   "source": [
    "note the big difference in test accuracy compared to an LSTM."
   ]
  },
  {
   "cell_type": "markdown",
   "metadata": {},
   "source": [
    "Visualize an example"
   ]
  },
  {
   "cell_type": "code",
   "execution_count": 12,
   "metadata": {},
   "outputs": [
    {
     "data": {
      "image/png": "[encoded data removed]",
      "text/plain": [
       "<Figure size 432x288 with 1 Axes>"
      ]
     },
     "metadata": {},
     "output_type": "display_data"
    },
    {
     "name": "stdout",
     "output_type": "stream",
     "text": [
      "prediction=1\ttarget=1\n"
     ]
    }
   ],
   "source": [
    "N = 315\n",
    "show_digit(test_values[N])\n",
    "test_logits = model(test_values[N:N+1])\n",
    "prediction = torch.argmax(test_logits[0]).item()\n",
    "target = test_labels[N].item()\n",
    "print(f'prediction={prediction}\\ttarget={target}')"
   ]
  }
 ],
 "metadata": {
  "kernelspec": {
   "display_name": "Python 3",
   "language": "python",
   "name": "python3"
  },
  "language_info": {
   "codemirror_mode": {
    "name": "ipython",
    "version": 3
   },
   "file_extension": ".py",
   "mimetype": "text/x-python",
   "name": "python",
   "nbconvert_exporter": "python",
   "pygments_lexer": "ipython3",
   "version": "3.7.0"
  }
 },
 "nbformat": 4,
 "nbformat_minor": 2
}
