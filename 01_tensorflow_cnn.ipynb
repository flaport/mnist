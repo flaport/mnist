{
 "cells": [
  {
   "cell_type": "markdown",
   "metadata": {},
   "source": [
    "# Tensorflow CNN"
   ]
  },
  {
   "cell_type": "markdown",
   "metadata": {},
   "source": [
    "A convolutional neural network written in pure tensorflow."
   ]
  },
  {
   "cell_type": "markdown",
   "metadata": {
    "_cell_guid": "39fba1ef-ec4b-38ca-fca0-0bdb31e294f4"
   },
   "source": [
    "## Imports"
   ]
  },
  {
   "cell_type": "code",
   "execution_count": 1,
   "metadata": {
    "_cell_guid": "6efa16c1-f457-45bb-49a3-69e11c7fae18"
   },
   "outputs": [],
   "source": [
    "%matplotlib inline\n",
    "import numpy as np\n",
    "import tensorflow as tf\n",
    "import matplotlib.pyplot as plt\n",
    "\n",
    "from fetch_mnist import fetch_mnist\n",
    "\n",
    "np.random.seed(1)"
   ]
  },
  {
   "cell_type": "markdown",
   "metadata": {},
   "source": [
    "## Constants"
   ]
  },
  {
   "cell_type": "code",
   "execution_count": 2,
   "metadata": {},
   "outputs": [],
   "source": [
    "# Data parameters\n",
    "num_labels = 10 # Number of different types of labels (1-10)\n",
    "width, height = 28, 28 # width / height of the image\n",
    "depth = 1 # Number of colors in the image (greyscale)\n",
    "\n",
    "# Training Parameters\n",
    "num_steps = 2000   # Number of training steps to run\n",
    "test_size = 10000 # Test data set size\n",
    "valid_size = 10000 # Validation data set size\n",
    "train_size = 60000 - valid_size # Size of the training set\n",
    "batch_size = 100 # Stochastic Gradient Descent batch size\n",
    "\n",
    "# CNN Parameters\n",
    "kernel_size = 5 # Convolutional Kernel size\n",
    "kernel_depth = 32 # Convolutional Kernel depth size == Number of Convolutional Kernels\n",
    "num_hidden = 1024 # Number of hidden neurons in the fully connected layer\n",
    "\n",
    "# Optimization parameters\n",
    "learning_rate = 0.001 # Learning rate"
   ]
  },
  {
   "cell_type": "markdown",
   "metadata": {
    "_cell_guid": "f731214e-9fca-f54d-91be-60475207ba64"
   },
   "source": [
    "## Data"
   ]
  },
  {
   "cell_type": "markdown",
   "metadata": {},
   "source": [
    "We use the custom MNIST data fetcher from `fetch_mnist.py`.\n",
    "\n",
    "As a preprocessing step, the labels are converted to a one-hot encoded sparse matrix. [One hot encoding](https://en.wikipedia.org/wiki/One-hot) is just a way of replacing each integer in the label vector with a row of zeros, except at the position specified by the integer, where you put a 1.\n",
    "\n",
    "Note that the inverse transformation of the one-hot encoding can always be performed by taking the `argmax` along `axis=1`.\n",
    "\n",
    "Secondly, the image values are specified by an integer between 0 and 255. We convert these pixel values to a float between 0 and 1."
   ]
  },
  {
   "cell_type": "code",
   "execution_count": 3,
   "metadata": {
    "_cell_guid": "cc368a9d-79d3-6e70-1732-4ebdd696a409"
   },
   "outputs": [
    {
     "name": "stdout",
     "output_type": "stream",
     "text": [
      "train data shape:\t\t(50000, 28, 28, 1)\n",
      "train labels (one-hot) shape:\t(50000, 10)\n"
     ]
    }
   ],
   "source": [
    "train_data, test_data = fetch_mnist()\n",
    "data = np.vstack([train_data, test_data])\n",
    "np.random.shuffle(data)\n",
    "\n",
    "train_data = data[:-test_size-valid_size]\n",
    "valid_data = data[-test_size-valid_size:-test_size]\n",
    "test_data  = data[-test_size:]\n",
    "\n",
    "def get_values_labels(data):\n",
    "    labels = np.int32(data[:,0])\n",
    "    labels_onehot = np.zeros((len(labels), num_labels))\n",
    "    labels_onehot[np.arange(len(labels)),labels] = 1\n",
    "    values = np.float32(data[:,1:]).reshape(-1, height, width, depth)/255\n",
    "    return values, labels, labels_onehot\n",
    "\n",
    "train_values, train_labels, train_labels_onehot = get_values_labels(train_data)\n",
    "valid_values, valid_labels, valid_labels_onehot = get_values_labels(valid_data)\n",
    "test_values, test_labels, test_labels_onehot = get_values_labels(test_data)\n",
    "\n",
    "print(f'train data shape:\\t\\t{train_values.shape}')\n",
    "print(f'train labels (one-hot) shape:\\t{train_labels_onehot.shape}')"
   ]
  },
  {
   "cell_type": "markdown",
   "metadata": {},
   "source": [
    "We can visualize the different digits by writing a visualization function that reshapes the 784D train and test values into a 28x28 grid:"
   ]
  },
  {
   "cell_type": "code",
   "execution_count": 4,
   "metadata": {},
   "outputs": [
    {
     "data": {
      "image/png": "[encoded data removed]",
      "text/plain": [
       "<Figure size 432x288 with 1 Axes>"
      ]
     },
     "metadata": {},
     "output_type": "display_data"
    }
   ],
   "source": [
    "def show_digit(digit_array):\n",
    "    plt.imshow(digit_array.reshape(height, width), cmap='Greys')\n",
    "    plt.xticks([])\n",
    "    plt.yticks([])\n",
    "    plt.show()\n",
    "    \n",
    "show_digit(train_values[31])"
   ]
  },
  {
   "cell_type": "markdown",
   "metadata": {},
   "source": [
    "## Model"
   ]
  },
  {
   "cell_type": "markdown",
   "metadata": {},
   "source": [
    "We choose a 4 layered network consisting of 2 convolutional layers with weights and biases (w1, b1) and (w2,b2), followed by a fully connected hidden layer (w3,b3) with `num_hidden` hidden neurons and an output layer (w4, b4) with `num_labels` output nodes (one-hot encoding).\n",
    "\n",
    "We initialize the weights and biases such that the kernel size of the second convolutional layer is twice that of the kernel size of the first convolutional layer."
   ]
  },
  {
   "cell_type": "markdown",
   "metadata": {},
   "source": [
    "\n",
    "\n",
    "We use the categorical cross entropy loss for training the model.\n",
    "\n",
    "As optimizer we could use a Gradient Descent optimizer [with or without decaying learning rate] or one of the more sophisticated (and easier to optimize) optimizers like Adam or RMSProp\n"
   ]
  },
  {
   "cell_type": "code",
   "execution_count": 5,
   "metadata": {},
   "outputs": [],
   "source": [
    "class Model():\n",
    "    def __init__(self):\n",
    "        # inputs\n",
    "        self.data = tf.placeholder(tf.float32, shape=(None, height, width, depth))\n",
    "        self.labels = tf.placeholder(tf.float32, shape=(None, num_labels))\n",
    "        \n",
    "        # weights & biases\n",
    "        self.w1 = tf.Variable(tf.truncated_normal([kernel_size, kernel_size, depth, kernel_depth], stddev=0.1))\n",
    "        self.b1 = tf.Variable(tf.zeros([kernel_depth]))\n",
    "        self.w2 = tf.Variable(tf.truncated_normal([kernel_size, kernel_size, kernel_depth, 2*kernel_depth], stddev=0.1))\n",
    "        self.b2 = tf.Variable(tf.constant(1.0, shape=[2*kernel_depth]))\n",
    "        self.w3 = tf.Variable(tf.truncated_normal([width // 4 * width // 4 * 2*kernel_depth, num_hidden], stddev=0.1))\n",
    "        self.b3 = tf.Variable(tf.constant(1.0, shape=[num_hidden]))\n",
    "        self.w4 = tf.Variable(tf.truncated_normal([num_hidden, num_labels], stddev=0.1))\n",
    "        self.b4 = tf.Variable(tf.constant(1.0, shape=[num_labels]))\n",
    "        \n",
    "        # Convolutional layer 1\n",
    "        x = tf.nn.conv2d(self.data, self.w1, [1, 1, 1, 1], padding='SAME')\n",
    "        x = tf.nn.max_pool(x, [1, 2, 2, 1], [1, 2, 2, 1], padding='SAME')\n",
    "        x = tf.nn.relu(x + self.b1)\n",
    "        # Convolutional layer 2\n",
    "        x = tf.nn.conv2d(x, self.w2, [1, 1, 1, 1], padding='SAME')\n",
    "        x = tf.nn.max_pool(x, [1, 2, 2, 1], [1, 2, 2, 1], padding='SAME')\n",
    "        x = tf.nn.relu(x + self.b2)\n",
    "        # Fully connected layer\n",
    "        x = tf.reshape(x, (-1, width // 4 * width // 4 * 2*kernel_depth))\n",
    "        x = tf.nn.relu(tf.matmul(x, self.w3) + self.b3)\n",
    "        \n",
    "        logits = tf.matmul(x, self.w4) + self.b4\n",
    "        \n",
    "        # prediction\n",
    "        self.pred = tf.nn.softmax(logits)\n",
    "\n",
    "        # loss\n",
    "        self.loss = tf.reduce_mean(tf.nn.softmax_cross_entropy_with_logits_v2(logits=logits, labels=self.labels))\n",
    "\n",
    "        # accuracy\n",
    "        self.acc = 100*tf.reduce_mean(tf.to_float(tf.equal(tf.argmax(self.pred, 1), tf.argmax(self.labels, 1))))\n",
    "\n",
    "        # optimizer\n",
    "        self.opt = tf.train.RMSPropOptimizer(learning_rate).minimize(self.loss)\n",
    "\n",
    "        # initializer\n",
    "        self.init = tf.global_variables_initializer()"
   ]
  },
  {
   "cell_type": "markdown",
   "metadata": {
    "_cell_guid": "e33cb0c7-51ed-02ae-ebb2-dcda12832da6"
   },
   "source": [
    "# Train"
   ]
  },
  {
   "cell_type": "markdown",
   "metadata": {},
   "source": [
    "Create the model"
   ]
  },
  {
   "cell_type": "code",
   "execution_count": 6,
   "metadata": {},
   "outputs": [],
   "source": [
    "model = Model()"
   ]
  },
  {
   "cell_type": "markdown",
   "metadata": {},
   "source": [
    "Open the session"
   ]
  },
  {
   "cell_type": "code",
   "execution_count": 7,
   "metadata": {},
   "outputs": [],
   "source": [
    "session = tf.Session()\n",
    "session.run(model.init)"
   ]
  },
  {
   "cell_type": "markdown",
   "metadata": {},
   "source": [
    "Run the session"
   ]
  },
  {
   "cell_type": "code",
   "execution_count": 8,
   "metadata": {},
   "outputs": [
    {
     "name": "stdout",
     "output_type": "stream",
     "text": [
      "Step     0\t Valid. Acc. = 10.07\n",
      "Step   500\t Valid. Acc. = 95.23\n",
      "Step  1000\t Valid. Acc. = 98.22\n",
      "Step  1500\t Valid. Acc. = 98.70\n",
      "Step  1999\t Valid. Acc. = 98.84\n",
      "CPU times: user 10.4 s, sys: 2.41 s, total: 12.9 s\n",
      "Wall time: 13.4 s\n"
     ]
    }
   ],
   "source": [
    "%%time\n",
    "history = [] \n",
    "for step in range(num_steps):\n",
    "    idxs = np.random.randint(0, train_size, batch_size)\n",
    "\n",
    "    if step%(train_size//batch_size) == 0 or step == num_steps -1:\n",
    "        fd={model.data:valid_values, model.labels:valid_labels_onehot}\n",
    "        val_acc, val_loss = session.run([model.acc, model.loss], feed_dict=fd)\n",
    "        history.append((step, val_loss, val_acc))\n",
    "        print(f'Step {step:5.0f}\\t Valid. Acc. = {val_acc:5.2f}')\n",
    "        \n",
    "    session.run(model.opt, feed_dict={model.data:train_values[idxs], model.labels:train_labels_onehot[idxs]})"
   ]
  },
  {
   "cell_type": "markdown",
   "metadata": {},
   "source": [
    "Training history:"
   ]
  },
  {
   "cell_type": "code",
   "execution_count": 9,
   "metadata": {},
   "outputs": [
    {
     "data": {
      "image/png": "[encoded data removed]",
      "text/plain": [
       "<Figure size 432x288 with 2 Axes>"
      ]
     },
     "metadata": {},
     "output_type": "display_data"
    }
   ],
   "source": [
    "steps, loss, acc = zip(*history)\n",
    "\n",
    "fig, ax_loss = plt.subplots()\n",
    "ax_acc = ax_loss.twinx()\n",
    "\n",
    "plt.sca(ax_acc)\n",
    "plt.plot(steps, acc, '-o', color='C1')\n",
    "plt.ylabel('Accuracy [%]', color='C1');\n",
    "plt.tick_params('y', colors='C1')\n",
    "plt.ylim(96,100)\n",
    "plt.yticks([96,98,100])\n",
    "\n",
    "plt.sca(ax_loss)\n",
    "plt.plot(steps, loss, '-o', color='C0')\n",
    "plt.ylabel('Log Loss', color='C0');\n",
    "plt.tick_params('y', colors='C0')\n",
    "plt.ylim(0.01, 0.3)\n",
    "\n",
    "plt.xlim(0, max(steps))\n",
    "plt.xticks([0,num_steps//4, num_steps//2, 3*num_steps//4, num_steps])\n",
    "plt.xlabel('Training Steps')\n",
    "plt.title('Validation Loss / Accuracy')\n",
    "plt.show()"
   ]
  },
  {
   "cell_type": "markdown",
   "metadata": {},
   "source": [
    "# Test"
   ]
  },
  {
   "cell_type": "markdown",
   "metadata": {},
   "source": [
    "Finally, the accuracy on the test set can be evaluated:"
   ]
  },
  {
   "cell_type": "code",
   "execution_count": 10,
   "metadata": {},
   "outputs": [
    {
     "name": "stdout",
     "output_type": "stream",
     "text": [
      "Test Accuracy = 98.68\n"
     ]
    }
   ],
   "source": [
    "fd = {model.data:test_values, model.labels:test_labels_onehot}\n",
    "test_accuracy = session.run(model.acc, feed_dict=fd)\n",
    "print(f'Test Accuracy = {test_accuracy:5.2f}')"
   ]
  },
  {
   "cell_type": "markdown",
   "metadata": {},
   "source": [
    "Visualize an example"
   ]
  },
  {
   "cell_type": "code",
   "execution_count": 11,
   "metadata": {},
   "outputs": [
    {
     "data": {
      "image/png": "[encoded data removed]",
      "text/plain": [
       "<Figure size 432x288 with 1 Axes>"
      ]
     },
     "metadata": {},
     "output_type": "display_data"
    },
    {
     "name": "stdout",
     "output_type": "stream",
     "text": [
      "prediction=3\ttarget=3\n"
     ]
    }
   ],
   "source": [
    "N = 315\n",
    "show_digit(test_values[N])\n",
    "prediction = np.argmax(session.run(model.pred, feed_dict={model.data:test_values[N:N+1]}).ravel())\n",
    "print(f'prediction={prediction}\\ttarget={test_labels[N]}')"
   ]
  },
  {
   "cell_type": "markdown",
   "metadata": {},
   "source": [
    "Close the session"
   ]
  },
  {
   "cell_type": "code",
   "execution_count": 12,
   "metadata": {},
   "outputs": [],
   "source": [
    "session.close()"
   ]
  }
 ],
 "metadata": {
  "_change_revision": 0,
  "_is_fork": false,
  "kernelspec": {
   "display_name": "Python 3",
   "language": "python",
   "name": "python3"
  },
  "language_info": {
   "codemirror_mode": {
    "name": "ipython",
    "version": 3
   },
   "file_extension": ".py",
   "mimetype": "text/x-python",
   "name": "python",
   "nbconvert_exporter": "python",
   "pygments_lexer": "ipython3",
   "version": "3.6.5"
  }
 },
 "nbformat": 4,
 "nbformat_minor": 2
}
