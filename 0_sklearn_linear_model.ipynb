{
 "cells": [
  {
   "cell_type": "markdown",
   "metadata": {},
   "source": [
    "# Linear Model"
   ]
  },
  {
   "cell_type": "markdown",
   "metadata": {
    "_cell_guid": "39fba1ef-ec4b-38ca-fca0-0bdb31e294f4"
   },
   "source": [
    "## Imports"
   ]
  },
  {
   "cell_type": "code",
   "execution_count": null,
   "metadata": {
    "_cell_guid": "6efa16c1-f457-45bb-49a3-69e11c7fae18"
   },
   "outputs": [],
   "source": [
    "%matplotlib inline\n",
    "import numpy as np\n",
    "import matplotlib.pyplot as plt\n",
    "from sklearn.datasets import fetch_mldata\n",
    "np.random.seed(1)"
   ]
  },
  {
   "cell_type": "markdown",
   "metadata": {
    "_cell_guid": "f731214e-9fca-f54d-91be-60475207ba64"
   },
   "source": [
    "## Data"
   ]
  },
  {
   "cell_type": "markdown",
   "metadata": {},
   "source": [
    "We use the `fetch_mldata` from `sklearn.datasets` to fetch the MNIST data.\n",
    "\n",
    "As a preprocessing step, the labels are converted to a one-hot encoded sparse matrix. [One hot encoding](https://en.wikipedia.org/wiki/One-hot) is just a way of replacing each integer in the label vector with a row of zeros, except at the position specified by the integer, where you put a 1.\n",
    "\n",
    "Note that the inverse transformation of the one-hot encoding can always be performed by taking the `argmax` along `axis=1`.\n",
    "\n",
    "Secondly, the image values are specified by an integer between 0 and 255. We convert these pixel values to a float between 0 and 1."
   ]
  },
  {
   "cell_type": "code",
   "execution_count": null,
   "metadata": {
    "_cell_guid": "cc368a9d-79d3-6e70-1732-4ebdd696a409"
   },
   "outputs": [],
   "source": [
    "data = fetch_mldata('MNIST original')\n",
    "data = np.hstack([data['target'][:,None], data['data']])\n",
    "np.random.shuffle(data)\n",
    "\n",
    "train_data, test_data = data[:60000], data[60000:]\n",
    "train_labels = np.int32(train_data[:,0])\n",
    "train_labels_onehot = np.zeros((len(train_labels), 10))\n",
    "train_labels_onehot[np.arange(len(train_labels)),train_labels] = 1\n",
    "train_values = np.float32(train_data[:,1:])/255\n",
    "\n",
    "test_labels = np.int32(test_data[:,0])\n",
    "test_labels_onehot = np.zeros((len(test_labels), 10))\n",
    "test_labels_onehot[np.arange(len(test_labels)),test_labels] = 1\n",
    "test_values = np.float32(test_data[:,1:])/255"
   ]
  },
  {
   "cell_type": "markdown",
   "metadata": {},
   "source": [
    "We can visualize the different digits by writing a visualization function that reshapes the 784D train and test values into a 28x28 grid:"
   ]
  },
  {
   "cell_type": "code",
   "execution_count": null,
   "metadata": {},
   "outputs": [],
   "source": [
    "def show_digit(digit_array):\n",
    "    plt.imshow(digit_array.reshape(28,28), cmap='Greys')\n",
    "    plt.xticks([])\n",
    "    plt.yticks([])\n",
    "    plt.show()\n",
    "    \n",
    "show_digit(train_values[31])"
   ]
  },
  {
   "cell_type": "markdown",
   "metadata": {
    "_cell_guid": "e33cb0c7-51ed-02ae-ebb2-dcda12832da6"
   },
   "source": [
    "# Train"
   ]
  },
  {
   "cell_type": "markdown",
   "metadata": {},
   "source": [
    "We train a simple linear regression model to arrive at a test accuracy of 0.86:"
   ]
  },
  {
   "cell_type": "code",
   "execution_count": null,
   "metadata": {
    "_cell_guid": "4dbef346-feb4-1479-62a8-042785666e66"
   },
   "outputs": [],
   "source": [
    "#from sklearn.linear_model import LinearRegression as LR\n",
    "from sklearn.linear_model import Ridge as LR  # alternative for normal LR\n",
    "\n",
    "lr = LR()\n",
    "lr.fit(train_values, train_labels_onehot)\n",
    "\n",
    "train_predict_onehot = lr.predict(train_values)\n",
    "test_predict_onehot = lr.predict(test_values)\n",
    "\n",
    "# Take the maximum value along the first axis to convert back \n",
    "# from onehot encoding to integer labels.\n",
    "train_predict = np.argmax(train_predict_onehot, axis=1)\n",
    "test_predict = np.argmax(test_predict_onehot, axis=1)\n",
    "\n",
    "\n",
    "# Calculate the accuracy\n",
    "train_accuracy = np.mean(train_predict == train_labels)\n",
    "test_accuracy = np.mean(test_predict == test_labels)\n",
    "\n",
    "print(f\"train accuracy:{train_accuracy}\\ttest accuracy:{test_accuracy}\")"
   ]
  }
 ],
 "metadata": {
  "_change_revision": 0,
  "_is_fork": false,
  "kernelspec": {
   "display_name": "Python 3",
   "language": "python",
   "name": "python3"
  },
  "language_info": {
   "codemirror_mode": {
    "name": "ipython",
    "version": 3
   },
   "file_extension": ".py",
   "mimetype": "text/x-python",
   "name": "python",
   "nbconvert_exporter": "python",
   "pygments_lexer": "ipython3",
   "version": "3.6.4"
  }
 },
 "nbformat": 4,
 "nbformat_minor": 1
}
